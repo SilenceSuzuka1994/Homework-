{
  "nbformat": 4,
  "nbformat_minor": 0,
  "metadata": {
    "colab": {
      "provenance": [],
      "authorship_tag": "ABX9TyPUmMiyvoe6uQyGa8VfJwRt",
      "include_colab_link": true
    },
    "kernelspec": {
      "name": "python3",
      "display_name": "Python 3"
    },
    "language_info": {
      "name": "python"
    }
  },
  "cells": [
    {
      "cell_type": "markdown",
      "metadata": {
        "id": "view-in-github",
        "colab_type": "text"
      },
      "source": [
        "<a href=\"https://colab.research.google.com/github/SilenceSuzuka1994/Homework-/blob/main/Untitled2.ipynb\" target=\"_parent\"><img src=\"https://colab.research.google.com/assets/colab-badge.svg\" alt=\"Open In Colab\"/></a>"
      ]
    },
    {
      "cell_type": "code",
      "execution_count": 4,
      "metadata": {
        "colab": {
          "base_uri": "https://localhost:8080/"
        },
        "id": "6JJonEW1ooP_",
        "outputId": "c61a7824-ef68-43e1-d421-4cc51ae73783"
      },
      "outputs": [
        {
          "output_type": "stream",
          "name": "stdout",
          "text": [
            "从起始位置 (0, 50) 到目标位置 (60, 0) 的最短路径距离为: [(0, 50), (0, 49), (0, 48), (0, 47), (0, 46), (0, 45), (0, 44), (0, 43), (0, 42), (0, 41), (0, 40), (0, 39), (0, 38), (0, 37), (0, 36), (0, 35), (0, 34), (0, 33), (0, 32), (0, 31), (0, 30), (0, 29), (0, 28), (0, 27), (0, 26), (0, 25), (0, 24), (0, 23), (0, 22), (0, 21), (0, 20), (0, 19), (0, 18), (0, 17), (0, 16), (0, 15), (0, 14), (0, 13), (0, 12), (0, 11), (0, 10), (0, 9), (0, 8), (0, 7), (0, 6), (0, 5), (0, 4), (0, 3), (0, 2), (0, 1), (0, 0), (1, 0), (2, 0), (3, 0), (4, 0), (5, 0), (6, 0), (7, 0), (8, 0), (9, 0), (10, 0), (11, 0), (12, 0), (13, 0), (14, 0), (15, 0), (16, 0), (17, 0), (18, 0), (19, 0), (20, 0), (21, 0), (22, 0), (23, 0), (24, 0), (25, 0), (26, 0), (27, 0), (28, 0), (29, 0), (30, 0), (31, 0), (32, 0), (33, 0), (34, 0), (35, 0), (36, 0), (37, 0), (38, 0), (39, 0), (40, 0), (41, 0), (42, 0), (43, 0), (44, 0), (45, 0), (46, 0), (47, 0), (48, 0), (49, 0), (50, 0), (51, 0), (52, 0), (53, 0), (54, 0), (55, 0), (56, 0), (57, 0), (58, 0), (59, 0), (60, 0)]\n"
          ]
        }
      ],
      "source": [
        "import heapq\n",
        "\n",
        "def dijkstra_with_obstacles(nodes, obstacles, start, goal):\n",
        "    max_row = max(node[0] for node in nodes)\n",
        "    max_col = max(node[1] for node in nodes)\n",
        "\n",
        "    grid = [[0] * (max_col + 1) for _ in range(max_row + 1)]\n",
        "\n",
        "    for obstacle in obstacles:\n",
        "        grid[obstacle[0]][obstacle[1]] = 1\n",
        "\n",
        "    directions = [(-1, 0), (1, 0), (0, -1), (0, 1)]\n",
        "\n",
        "    distances = { (r, c): float('inf') for r in range(max_row + 1) for c in range(max_col + 1) }\n",
        "    distances[start] = 0\n",
        "\n",
        "    predecessors = {(r, c) : None for r in range(max_row + 1) for c in range(max_col + 1) }\n",
        "\n",
        "    priority_queue = [(0, start)]\n",
        "\n",
        "    while priority_queue:\n",
        "        current_distance, current_node = heapq.heappop(priority_queue)\n",
        "        current_row, current_col = current_node\n",
        "\n",
        "        if current_node == goal:\n",
        "            path = []\n",
        "            while current_node is not None:\n",
        "              path.append(current_node)\n",
        "              current_node = predecessors[current_node]\n",
        "            path.reverse()\n",
        "            return path\n",
        "\n",
        "        if current_distance > distances[current_node]:\n",
        "            continue\n",
        "\n",
        "        for dr, dc in directions:\n",
        "            neighbor_row, neighbor_col = current_row + dr, current_col + dc\n",
        "\n",
        "            if 0 <= neighbor_row <= max_row and 0 <= neighbor_col <= max_col and grid[neighbor_row][neighbor_col] == 0:\n",
        "                neighbor_node = (neighbor_row, neighbor_col)\n",
        "                distance = current_distance + 1\n",
        "\n",
        "                if distance < distances[neighbor_node]:\n",
        "                    distances[neighbor_node] = distance\n",
        "                    predecessors[neighbor_node] = current_node\n",
        "                    heapq.heappush(priority_queue, (distance, neighbor_node))\n",
        "\n",
        "    return []\n",
        "\n",
        "x_start, x_end = 0, 60\n",
        "y_start, y_end = 0, 50\n",
        "\n",
        "coordinates = [(x, y) for x in range(x_start, x_end + 1) for y in range(y_start, y_end + 1)]\n",
        "\n",
        "nodes = coordinates\n",
        "\n",
        "obstacles = [(5, 5)]\n",
        "\n",
        "start = (0, 50)\n",
        "goal = (60, 0)\n",
        "\n",
        "shortest_path = dijkstra_with_obstacles(nodes, obstacles, start, goal)\n",
        "\n",
        "if shortest_path:\n",
        "    print(f\"从起始位置 {start} 到目标位置 {goal} 的最短路径距离为: {shortest_path}\")\n",
        "else:\n",
        "    print(f\"无法从起始位置 {start} 到达目标位置 {goal}\")"
      ]
    }
  ]
}