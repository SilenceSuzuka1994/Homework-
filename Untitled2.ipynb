{
  "nbformat": 4,
  "nbformat_minor": 0,
  "metadata": {
    "colab": {
      "provenance": [],
      "authorship_tag": "ABX9TyN7QkMrAf/dqDCoTrx6Ptha",
      "include_colab_link": true
    },
    "kernelspec": {
      "name": "python3",
      "display_name": "Python 3"
    },
    "language_info": {
      "name": "python"
    }
  },
  "cells": [
    {
      "cell_type": "markdown",
      "metadata": {
        "id": "view-in-github",
        "colab_type": "text"
      },
      "source": [
        "<a href=\"https://colab.research.google.com/github/SilenceSuzuka1994/Homework-/blob/main/Untitled2.ipynb\" target=\"_parent\"><img src=\"https://colab.research.google.com/assets/colab-badge.svg\" alt=\"Open In Colab\"/></a>"
      ]
    },
    {
      "cell_type": "code",
      "execution_count": 6,
      "metadata": {
        "colab": {
          "base_uri": "https://localhost:8080/"
        },
        "id": "6JJonEW1ooP_",
        "outputId": "48134b36-bab7-4a4e-98dc-5028b96da378"
      },
      "outputs": [
        {
          "output_type": "stream",
          "name": "stdout",
          "text": [
            "从起始位置 (0, 50) 到目标位置 (60, 0) 的最短路径距离为: [(0, 50), (1, 49), (2, 48), (3, 47), (4, 46), (5, 45), (6, 44), (7, 43), (8, 42), (9, 41), (10, 40), (11, 39), (12, 38), (13, 37), (14, 36), (15, 35), (16, 34), (17, 33), (18, 32), (19, 31), (20, 30), (21, 29), (22, 28), (23, 27), (24, 26), (25, 25), (26, 24), (27, 23), (28, 22), (29, 21), (30, 20), (31, 19), (32, 18), (33, 17), (34, 16), (35, 15), (36, 14), (37, 13), (38, 12), (39, 11), (40, 10), (41, 9), (42, 8), (43, 7), (44, 6), (45, 5), (46, 4), (47, 3), (48, 2), (49, 1), (50, 0), (51, 0), (52, 0), (53, 0), (54, 0), (55, 0), (56, 0), (57, 0), (58, 0), (59, 0), (60, 0)]\n"
          ]
        }
      ],
      "source": [
        "import heapq\n",
        "import math\n",
        "\n",
        "def heuristic(node, goal, line_slope, line_intercept):\n",
        "    distance_to_goal = math.sqrt((node[0] - goal[0]) ** 2 + (node[1] - goal[1]) ** 2)\n",
        "\n",
        "    def linear_interpolation(x0, y0, xn, yn):\n",
        "      def interpolate_function(x):\n",
        "          line_slope = (yn-y0)/(xn-x0)\n",
        "          line_intercept = yn - line_slope * xn\n",
        "\n",
        "    x0, y0 = 0, 50\n",
        "    xn, yn = 60, 0\n",
        "\n",
        "    x, y = node\n",
        "    perpendicular_distance = abs(line_slope * x - y + line_intercept) / math.sqrt(line_slope ** 2 + 1)\n",
        "\n",
        "    return distance_to_goal + perpendicular_distance\n",
        "\n",
        "def a_star_with_line_bias(nodes, obstacles, start, goal, step_size = 1):\n",
        "    max_row = max(node[0] for node in nodes)\n",
        "    max_col = max(node[1] for node in nodes)\n",
        "\n",
        "    grid = [[0] * (max_col + 1) for _ in range(max_row + 1)]\n",
        "\n",
        "    for obstacle in obstacles:\n",
        "        grid[obstacle[0]][obstacle[1]] = 1\n",
        "\n",
        "    if goal[0] != start[0]:\n",
        "        line_slope = (goal[1] - start[1]) / (goal[0] - start[0])\n",
        "        line_intercept = start[1] - line_slope * start[0]\n",
        "    else:\n",
        "        line_slope = float('inf')\n",
        "        line_intercept = start[0]\n",
        "\n",
        "    directions = [(step_size * dx, step_size * dy) for dx in [-1, 0, 1] for dy in [-1, 0, 1] if dx != 0 or dy != 0]\n",
        "\n",
        "    distances = { (r, c): float('inf') for r in range(max_row + 1) for c in range(max_col + 1) }\n",
        "    distances[start] = 0\n",
        "\n",
        "    predecessors = {(r, c) : None for r in range(max_row + 1) for c in range(max_col + 1) }\n",
        "\n",
        "    priority_queue = [(0, start)]\n",
        "\n",
        "    while priority_queue:\n",
        "        current_distance, current_node = heapq.heappop(priority_queue)\n",
        "        current_row, current_col = current_node\n",
        "\n",
        "        if current_node == goal:\n",
        "            path = []\n",
        "            while current_node is not None:\n",
        "              path.append(current_node)\n",
        "              current_node = predecessors[current_node]\n",
        "            path.reverse()\n",
        "            return path\n",
        "\n",
        "        if current_distance > distances[current_node]:\n",
        "            continue\n",
        "\n",
        "        for dr, dc in directions:\n",
        "            neighbor_row, neighbor_col = current_row + dr, current_col + dc\n",
        "\n",
        "            if 0 <= neighbor_row <= max_row and 0 <= neighbor_col <= max_col and grid[neighbor_row][neighbor_col] == 0:\n",
        "                neighbor_node = (neighbor_row, neighbor_col)\n",
        "                distance = current_distance + 1\n",
        "\n",
        "                if distance < distances[neighbor_node]:\n",
        "                    distances[neighbor_node] = distance\n",
        "                    predecessors[neighbor_node] = current_node\n",
        "                    heapq.heappush(priority_queue, (distance, neighbor_node))\n",
        "\n",
        "    return []\n",
        "\n",
        "import numpy as np\n",
        "import matplotlib.pyplot as plt\n",
        "\n",
        "def polar_to_cartesian(r_values, theta_values):\n",
        "    cartesian_points = []\n",
        "    for r in r_values:\n",
        "        for theta in theta_values:\n",
        "            x = r * np.cos(theta)\n",
        "            y = r * np.sin(theta)\n",
        "            cartesian_points.append((round(x), round(y)))\n",
        "    return cartesian_points\n",
        "\n",
        "r_min, r_max = 0, 79\n",
        "theta_min, theta_max = 0, 2 * np.pi\n",
        "\n",
        "r_values = np.linspace(r_min, r_max, 1000)\n",
        "theta_values = np.linspace(theta_min, theta_max, 1000)\n",
        "\n",
        "cartesian_points = polar_to_cartesian(r_values, theta_values)\n",
        "\n",
        "x_values, y_values = zip(*cartesian_points)\n",
        "\n",
        "nodes = cartesian_points\n",
        "\n",
        "obstacles = [(5, 5) , (0, 49) , (1, 48)]\n",
        "\n",
        "start = (0, 50)\n",
        "goal = (60, 0)\n",
        "\n",
        "shortest_path = a_star_with_line_bias(nodes, obstacles, start, goal)\n",
        "\n",
        "if shortest_path:\n",
        "    print(f\"从起始位置 {start} 到目标位置 {goal} 的最短路径距离为: {shortest_path}\")\n",
        "else:\n",
        "    print(f\"无法从起始位置 {start} 到达目标位置 {goal}\")"
      ]
    }
  ]
}